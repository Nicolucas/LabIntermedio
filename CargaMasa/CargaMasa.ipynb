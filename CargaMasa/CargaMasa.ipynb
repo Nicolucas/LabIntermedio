{
 "metadata": {
  "name": "CargaMasa"
 },
 "nbformat": 3,
 "nbformat_minor": 0,
 "worksheets": [
  {
   "cells": [
    {
     "cell_type": "code",
     "collapsed": false,
     "input": [
      "%pylab inline\n",
      "import scipy"
     ],
     "language": "python",
     "metadata": {},
     "outputs": [
      {
       "output_type": "stream",
       "stream": "stdout",
       "text": [
        "\n",
        "Welcome to pylab, a matplotlib-based Python environment [backend: module://IPython.zmq.pylab.backend_inline].\n",
        "For more information, type 'help(pylab)'.\n"
       ]
      }
     ],
     "prompt_number": 56
    },
    {
     "cell_type": "code",
     "collapsed": false,
     "input": [
      "data2 = loadtxt(\"data2cm\")\n",
      "V2 = data2[:,0]\n",
      "I2 = data2[:,1]\n",
      "\n",
      "data3 = loadtxt(\"data3cm\")\n",
      "V3 = data3[:,0]\n",
      "I3 = data3[:,1]\n",
      "\n",
      "data4 = loadtxt(\"data4cm\")\n",
      "V4 = data4[:,0]\n",
      "I4 = data4[:,1]\n",
      "\n",
      "data5 = loadtxt(\"data5cm\")\n",
      "V5 = data5[:,0]\n",
      "I5 = data5[:,1]\n",
      "\n",
      "num=V2.size"
     ],
     "language": "python",
     "metadata": {},
     "outputs": [],
     "prompt_number": 57
    },
    {
     "cell_type": "heading",
     "level": 2,
     "metadata": {},
     "source": [
      "e/m=2*U/c\u00b2I\u00b2r\u00b2"
     ]
    },
    {
     "cell_type": "code",
     "collapsed": false,
     "input": [
      "lista2=[]\n",
      "lista3=[]\n",
      "lista4=[]\n",
      "lista5=[]"
     ],
     "language": "python",
     "metadata": {},
     "outputs": [],
     "prompt_number": 58
    },
    {
     "cell_type": "code",
     "collapsed": false,
     "input": [
      "cons=((4.0/5.0)**(3.0/2.0))*1.257*(10**-6)*154.0/0.2\n",
      "cons"
     ],
     "language": "python",
     "metadata": {},
     "outputs": [
      {
       "output_type": "pyout",
       "prompt_number": 59,
       "text": [
        "0.0006925657071175268"
       ]
      }
     ],
     "prompt_number": 59
    },
    {
     "cell_type": "code",
     "collapsed": false,
     "input": [
      "def calculo(V,I,R):\n",
      "   return (2.0*V)/((cons**2.0)*(I**2.0)*(R**2.0))"
     ],
     "language": "python",
     "metadata": {},
     "outputs": [],
     "prompt_number": 60
    },
    {
     "cell_type": "code",
     "collapsed": false,
     "input": [
      "for i in range(num):\n",
      "    lista2.append(calculo(V2[i],I2[i],0.02))\n",
      "    lista3.append(calculo(V3[i],I3[i],0.03))\n",
      "    lista4.append(calculo(V4[i],I4[i],0.04))\n",
      "    lista5.append(calculo(V5[i],I5[i],0.05))"
     ],
     "language": "python",
     "metadata": {},
     "outputs": [],
     "prompt_number": 61
    },
    {
     "cell_type": "code",
     "collapsed": false,
     "input": [
      "LaLista=[]\n",
      "LaLista.extend(lista2)\n",
      "LaLista.extend(lista3)\n",
      "LaLista.extend(lista4)\n",
      "LaLista.extend(lista5)"
     ],
     "language": "python",
     "metadata": {},
     "outputs": [],
     "prompt_number": 62
    },
    {
     "cell_type": "code",
     "collapsed": false,
     "input": [
      "prom=mean(LaLista)\n",
      "err=std(LaLista)"
     ],
     "language": "python",
     "metadata": {},
     "outputs": [],
     "prompt_number": 72
    },
    {
     "cell_type": "heading",
     "level": 1,
     "metadata": {},
     "source": [
      "Promedio y Error de todos los datos"
     ]
    },
    {
     "cell_type": "code",
     "collapsed": false,
     "input": [
      "'%.2E' % float(prom),'%.1E' % float(err)"
     ],
     "language": "python",
     "metadata": {},
     "outputs": [
      {
       "output_type": "pyout",
       "prompt_number": 75,
       "text": [
        "('1.83E+11', '8.0E+09')"
       ]
      }
     ],
     "prompt_number": 75
    },
    {
     "cell_type": "code",
     "collapsed": false,
     "input": [
      "prom2=mean(lista2)\n",
      "err2=std(lista2)\n",
      "prom3=mean(lista3)\n",
      "err3=std(lista3)\n",
      "prom4=mean(lista4)\n",
      "err4=std(lista4)\n",
      "prom5=mean(lista5)\n",
      "err5=std(lista5)"
     ],
     "language": "python",
     "metadata": {},
     "outputs": [],
     "prompt_number": 76
    },
    {
     "cell_type": "heading",
     "level": 1,
     "metadata": {},
     "source": [
      "Datos de R = 2 cm"
     ]
    },
    {
     "cell_type": "code",
     "collapsed": false,
     "input": [
      "'%.2E' % float(prom2),'%.1E' % float(err2)"
     ],
     "language": "python",
     "metadata": {},
     "outputs": [
      {
       "output_type": "pyout",
       "prompt_number": 77,
       "text": [
        "('1.70E+11', '1.9E+09')"
       ]
      }
     ],
     "prompt_number": 77
    },
    {
     "cell_type": "heading",
     "level": 1,
     "metadata": {},
     "source": [
      "Datos de R = 3 cm"
     ]
    },
    {
     "cell_type": "code",
     "collapsed": false,
     "input": [
      "'%.2E' % float(prom3),'%.1E' % float(err3)"
     ],
     "language": "python",
     "metadata": {},
     "outputs": [
      {
       "output_type": "pyout",
       "prompt_number": 78,
       "text": [
        "('1.82E+11', '1.2E+09')"
       ]
      }
     ],
     "prompt_number": 78
    },
    {
     "cell_type": "heading",
     "level": 1,
     "metadata": {},
     "source": [
      "Datos de R = 4 cm"
     ]
    },
    {
     "cell_type": "code",
     "collapsed": false,
     "input": [
      "'%.2E' % float(prom4),'%.1E' % float(err4)"
     ],
     "language": "python",
     "metadata": {},
     "outputs": [
      {
       "output_type": "pyout",
       "prompt_number": 79,
       "text": [
        "('1.88E+11', '2.7E+09')"
       ]
      }
     ],
     "prompt_number": 79
    },
    {
     "cell_type": "heading",
     "level": 1,
     "metadata": {},
     "source": [
      "Datos de R = 5 cm"
     ]
    },
    {
     "cell_type": "code",
     "collapsed": false,
     "input": [
      "'%.2E' % float(prom5),'%.1E' % float(err5)"
     ],
     "language": "python",
     "metadata": {},
     "outputs": [
      {
       "output_type": "pyout",
       "prompt_number": 80,
       "text": [
        "('1.91E+11', '9.1E+08')"
       ]
      }
     ],
     "prompt_number": 80
    },
    {
     "cell_type": "code",
     "collapsed": false,
     "input": [],
     "language": "python",
     "metadata": {},
     "outputs": []
    }
   ],
   "metadata": {}
  }
 ]
}