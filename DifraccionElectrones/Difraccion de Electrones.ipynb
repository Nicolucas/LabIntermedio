{
 "metadata": {
  "name": "Difraccion de Electrones"
 },
 "nbformat": 3,
 "nbformat_minor": 0,
 "worksheets": [
  {
   "cells": [
    {
     "cell_type": "code",
     "collapsed": false,
     "input": [
      "%pylab inline\n",
      "from scipy import constants as cons"
     ],
     "language": "python",
     "metadata": {},
     "outputs": [
      {
       "output_type": "stream",
       "stream": "stdout",
       "text": [
        "\n",
        "Welcome to pylab, a matplotlib-based Python environment [backend: module://IPython.zmq.pylab.backend_inline].\n",
        "For more information, type 'help(pylab)'.\n"
       ]
      }
     ],
     "prompt_number": 1
    },
    {
     "cell_type": "heading",
     "level": 1,
     "metadata": {},
     "source": [
      "$Difracci\u00f3n$ $de$ $Electrones$"
     ]
    },
    {
     "cell_type": "code",
     "collapsed": false,
     "input": [
      "didata1=loadtxt(\"Difuso1\")\n",
      "A1=didata1[:,1]\n",
      "B1=didata1[:,2]\n",
      "\n",
      "didata2=loadtxt(\"Difuso2\")\n",
      "A2=didata2[:,1]\n",
      "B2=didata2[:,2]\n",
      "\n",
      "data1 = loadtxt(\"Def1\")\n",
      "V1= data1[:,1]\n",
      "I1 = data1[:,2]\n",
      "\n",
      "data2 = loadtxt(\"Def2\")\n",
      "V2 = data2[:,1]\n",
      "I2 = data2[:,2]\n",
      "\n",
      "data3 = loadtxt(\"Def3\")\n",
      "V3 = data3[:,1]\n",
      "I3 = data3[:,2]\n",
      "\n",
      "data4 = loadtxt(\"Def4\")\n",
      "V4 = data4[:,1]\n",
      "I4 = data4[:,2]\n",
      "\n",
      "data5 = loadtxt(\"Def5\")\n",
      "V5 = data5[:,1]\n",
      "I5 = data5[:,2]\n",
      "\n",
      "data6 = loadtxt(\"Def6\")\n",
      "V6 = data6[:,1]\n",
      "I6 = data6[:,2]\n",
      "\n",
      "num=V2.size\n",
      "num"
     ],
     "language": "python",
     "metadata": {},
     "outputs": [
      {
       "output_type": "pyout",
       "prompt_number": 2,
       "text": [
        "5"
       ]
      }
     ],
     "prompt_number": 2
    },
    {
     "cell_type": "heading",
     "level": 4,
     "metadata": {},
     "source": [
      "Voltaje esta en $kV$, Varia de 3.0 a 5.0 $kV$"
     ]
    },
    {
     "cell_type": "heading",
     "level": 4,
     "metadata": {},
     "source": [
      "Diametros estan en $cm$"
     ]
    },
    {
     "cell_type": "heading",
     "level": 4,
     "metadata": {},
     "source": [
      "Pantalla-Grafito $L = 13.5 cm$"
     ]
    },
    {
     "cell_type": "heading",
     "level": 4,
     "metadata": {},
     "source": [
      "Distancias reticulares interplanares: $d_1=2.13 \\cdot 10\u207b\u00b9\u2070 m$, $ d_2=1.23 \\cdot 10\u207b\u00b9\u2070 m$"
     ]
    },
    {
     "cell_type": "code",
     "collapsed": false,
     "input": [
      "h0=cons.Planck\n",
      "e0=cons.e\n",
      "m0=cons.m_e\n",
      "L=13.5\n",
      "d1=2.13e-10\n",
      "d2=1.23e-10\n"
     ],
     "language": "python",
     "metadata": {},
     "outputs": [],
     "prompt_number": 3
    },
    {
     "cell_type": "heading",
     "level": 4,
     "metadata": {},
     "source": [
      "$\\lambda = \\frac{h}{\\sqrt{2 \\cdot m \\cdot e \\cdot U}}$ ,  $\\lambda = d\\cdot \\frac{D}{2 \\cdot L}$"
     ]
    },
    {
     "cell_type": "code",
     "collapsed": false,
     "input": [
      "def lambda1(U):\n",
      "    dato=h0/(sqrt(2.0*m0*e0*U))\n",
      "    return dato\n",
      "\n",
      "def lambda2(d,D):\n",
      "    dato=d*D/(2.0*L)\n",
      "    return dato"
     ],
     "language": "python",
     "metadata": {},
     "outputs": [],
     "prompt_number": 4
    },
    {
     "cell_type": "heading",
     "level": 4,
     "metadata": {},
     "source": [
      "Promedios"
     ]
    },
    {
     "cell_type": "code",
     "collapsed": false,
     "input": [
      "promd1=[]\n",
      "errd1=[]\n",
      "promd2=[]\n",
      "errd2=[]\n",
      "for i in range(num):\n",
      "    \"\"\"\n",
      "    dats=(V1[i],V2[i],V3[i],V4[i],V5[i],V6[i])\n",
      "    datss=(I1[i],I2[i],I3[i],I4[i],I5[i],I6[i])\n",
      "    \"\"\"\n",
      "    dats=(V1[i],V2[i],V3[i],V4[i],V5[i])\n",
      "    datss=(I1[i],I2[i],I3[i],I4[i],I5[i])\n",
      "    \n",
      "    maso1=std(dats)\n",
      "    maso2=std(datss)\n",
      "    promd1.append(mean(dats))\n",
      "    errd1.append(maso1)\n",
      "    promd2.append(mean(datss))\n",
      "    errd2.append(maso2)"
     ],
     "language": "python",
     "metadata": {},
     "outputs": [],
     "prompt_number": 5
    },
    {
     "cell_type": "heading",
     "level": 4,
     "metadata": {},
     "source": [
      "promd:= Lista de datos ordenados por Voltaje"
     ]
    },
    {
     "cell_type": "code",
     "collapsed": false,
     "input": [
      "kv=arange(3.0,5.5,0.5)\n",
      "\n",
      "kV=multiply(1000,kv)\n"
     ],
     "language": "python",
     "metadata": {},
     "outputs": [],
     "prompt_number": 6
    },
    {
     "cell_type": "heading",
     "level": 4,
     "metadata": {},
     "source": [
      "$\\lambda = \\frac{h}{\\sqrt{2 \\cdot m \\cdot e \\cdot U}}$ ,  $\\lambda = d\\cdot \\frac{D}{2 \\cdot L}$"
     ]
    },
    {
     "cell_type": "code",
     "collapsed": false,
     "input": [
      "numd=size(promd1)\n",
      "lamb1=[]\n",
      "lamb2=[]\n",
      "lamb3=[]\n",
      "for i in range(numd):\n",
      "    lamb1.append(lambda1(kV[i]))\n",
      "    lamb2.append(lambda2(promd1[i],d1))\n",
      "    lamb3.append(lambda2(d2,promd2[i]))"
     ],
     "language": "python",
     "metadata": {},
     "outputs": [],
     "prompt_number": 7
    },
    {
     "cell_type": "code",
     "collapsed": false,
     "input": [
      "lamb1"
     ],
     "language": "python",
     "metadata": {},
     "outputs": [
      {
       "output_type": "pyout",
       "prompt_number": 8,
       "text": [
        "[2.2391371138524489e-11,\n",
        " 2.0730381461512976e-11,\n",
        " 1.93914962315279e-11,\n",
        " 1.8282477976889013e-11,\n",
        " 1.7344281503650954e-11]"
       ]
      }
     ],
     "prompt_number": 8
    },
    {
     "cell_type": "code",
     "collapsed": false,
     "input": [
      "lamb2"
     ],
     "language": "python",
     "metadata": {},
     "outputs": [
      {
       "output_type": "pyout",
       "prompt_number": 9,
       "text": [
        "[2.3335333333333335e-11,\n",
        " 2.1386777777777774e-11,\n",
        " 1.9887888888888888e-11,\n",
        " 1.8870222222222224e-11,\n",
        " 1.7820999999999998e-11]"
       ]
      }
     ],
     "prompt_number": 9
    },
    {
     "cell_type": "code",
     "collapsed": false,
     "input": [
      "lamb3"
     ],
     "language": "python",
     "metadata": {},
     "outputs": [
      {
       "output_type": "pyout",
       "prompt_number": 10,
       "text": [
        "[2.3219666666666663e-11,\n",
        " 2.1401999999999999e-11,\n",
        " 1.9957888888888888e-11,\n",
        " 1.893288888888889e-11,\n",
        " 1.7411333333333335e-11]"
       ]
      }
     ],
     "prompt_number": 10
    },
    {
     "cell_type": "heading",
     "level": 4,
     "metadata": {},
     "source": [
      "$\\lambda$, $\\lambda$ con D1, $\\lambda$ con D2"
     ]
    },
    {
     "cell_type": "code",
     "collapsed": false,
     "input": [
      "mean(lamb1),mean(lamb2),mean(lamb3)"
     ],
     "language": "python",
     "metadata": {},
     "outputs": [
      {
       "output_type": "pyout",
       "prompt_number": 11,
       "text": [
        "(1.9628001662421066e-11, 2.0260244444444445e-11, 2.0184755555555554e-11)"
       ]
      }
     ],
     "prompt_number": 11
    },
    {
     "cell_type": "heading",
     "level": 2,
     "metadata": {},
     "source": [
      "Distancias interplanares $d_1$ y $d_2$"
     ]
    },
    {
     "cell_type": "heading",
     "level": 4,
     "metadata": {},
     "source": [
      "$ \\frac{h \\cdot 2 \\cdot L}{\\sqrt{2 \\cdot m \\cdot e \\cdot U}}= {d} \\cdot D$"
     ]
    },
    {
     "cell_type": "code",
     "collapsed": false,
     "input": [
      "def funcD(U,P):\n",
      "    dato=(h0*2.0*L/(sqrt(2.0*m0*e0*U)))\n",
      "    return dato"
     ],
     "language": "python",
     "metadata": {},
     "outputs": [],
     "prompt_number": 12
    },
    {
     "cell_type": "code",
     "collapsed": false,
     "input": [
      "lista1=[]\n",
      "lista2=[]\n",
      "for i in range(numd):\n",
      "    lista1.append(funcD(kV[i],d1))\n",
      "    lista2.append(funcD(kV[i],d2))"
     ],
     "language": "python",
     "metadata": {},
     "outputs": [],
     "prompt_number": 13
    },
    {
     "cell_type": "heading",
     "level": 4,
     "metadata": {},
     "source": [
      "$d_1=2.13 \\cdot 10\u207b\u00b9\u2070 m$ , $ d_2=1.23 \\cdot 10\u207b\u00b9\u2070 m$"
     ]
    },
    {
     "cell_type": "code",
     "collapsed": false,
     "input": [
      "(ar,br)=polyfit(promd1,lista1,1)\n",
      "\n",
      "plot(promd1,lista1)\n",
      "print(ar)\n"
     ],
     "language": "python",
     "metadata": {},
     "outputs": [
      {
       "output_type": "stream",
       "stream": "stdout",
       "text": [
        "1.9621114307e-10\n"
       ]
      },
      {
       "output_type": "display_data",
       "png": "[encoded data removed]"
      }
     ],
     "prompt_number": 14
    },
    {
     "cell_type": "code",
     "collapsed": false,
     "input": [
      "(ar2,br2)=polyfit(promd2,lista2,1)\n",
      "\n",
      "plot(promd2,lista2)"
     ],
     "language": "python",
     "metadata": {},
     "outputs": [
      {
       "output_type": "pyout",
       "prompt_number": 15,
       "text": [
        "[<matplotlib.lines.Line2D at 0x9b66b2c>]"
       ]
      },
      {
       "output_type": "display_data",
       "png": "[encoded data removed]"
      }
     ],
     "prompt_number": 15
    },
    {
     "cell_type": "heading",
     "level": 3,
     "metadata": {},
     "source": [
      "Distancias:"
     ]
    },
    {
     "cell_type": "heading",
     "level": 4,
     "metadata": {},
     "source": [
      "$d_1=2.13 \\cdot 10\u207b\u00b9\u2070 m$ , $ d_2=1.23 \\cdot 10\u207b\u00b9\u2070 m$"
     ]
    },
    {
     "cell_type": "code",
     "collapsed": false,
     "input": [
      "ar,ar2"
     ],
     "language": "python",
     "metadata": {},
     "outputs": [
      {
       "output_type": "pyout",
       "prompt_number": 16,
       "text": [
        "(1.9621114307043919e-10, 1.094557084544451e-10)"
       ]
      }
     ],
     "prompt_number": 16
    },
    {
     "cell_type": "heading",
     "level": 3,
     "metadata": {},
     "source": [
      "Conocer la constante de Planck $h$"
     ]
    },
    {
     "cell_type": "heading",
     "level": 3,
     "metadata": {},
     "source": [
      "$h =  \\frac{d \\cdot D}{2 \\cdot L}   \\sqrt{2 \\cdot m \\cdot e \\cdot U} $"
     ]
    },
    {
     "cell_type": "code",
     "collapsed": false,
     "input": [
      "def funch(U,D,P):\n",
      "    dato=(sqrt(2.0*m0*e0*U))*(P*D)/(2.0*L)\n",
      "    return dato"
     ],
     "language": "python",
     "metadata": {},
     "outputs": [],
     "prompt_number": 17
    },
    {
     "cell_type": "code",
     "collapsed": false,
     "input": [
      "planckie1=[]\n",
      "planckie2=[]\n",
      "for i in range(numd):\n",
      "    planckie1.append(funch(kV[i],promd1[i],d1))\n",
      "    planckie2.append(funch(kV[i],promd2[i],d2))"
     ],
     "language": "python",
     "metadata": {},
     "outputs": [],
     "prompt_number": 18
    },
    {
     "cell_type": "code",
     "collapsed": false,
     "input": [
      "planckie=planckie1\n",
      "planckie.extend(planckie2)\n",
      "mean(planckie),h0\n"
     ],
     "language": "python",
     "metadata": {},
     "outputs": [
      {
       "output_type": "pyout",
       "prompt_number": 19,
       "text": [
        "(6.8229244017590592e-34, 6.62606896e-34)"
       ]
      }
     ],
     "prompt_number": 19
    },
    {
     "cell_type": "code",
     "collapsed": false,
     "input": [],
     "language": "python",
     "metadata": {},
     "outputs": []
    }
   ],
   "metadata": {}
  }
 ]
}